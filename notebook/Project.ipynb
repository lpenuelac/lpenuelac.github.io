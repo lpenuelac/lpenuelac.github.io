{
  "nbformat": 4,
  "nbformat_minor": 0,
  "metadata": {
    "colab": {
      "provenance": []
    },
    "kernelspec": {
      "name": "python3",
      "display_name": "Python 3"
    },
    "language_info": {
      "name": "python"
    }
  },
  "cells": [
    {
      "cell_type": "markdown",
      "source": [
        "<img src=\"https://communications.tulane.edu/sites/default/files/TUlogo2020.png\" alt=\"drawing\" width=\"20%\"/> \n",
        "# <center> **E-commerce business data analysis** </center>\n",
        " ### <center> by Lorena Peñuela Cantor </center>\n",
        "#### <center> [Website](https://lpenuelac.github.io/) </center>\n",
        "\n",
        "\n"
      ],
      "metadata": {
        "id": "Ao_EX5EWsPYC"
      }
    },
    {
      "cell_type": "markdown",
      "source": [
        "<a name=\"content\"></a>\n",
        "# **Content**\n",
        "1- [Goal](#goal)  \n",
        "2-  [Collaboration Plan](#collaboration)  \n",
        "3 -  [Datasets](#datasets)  \n",
        "  &nbsp;&nbsp;&nbsp;&nbsp;&nbsp;3.1-   [Exploratory data analysis](#EDA)  \n",
        "  &nbsp;&nbsp;&nbsp;&nbsp;&nbsp;&nbsp;&nbsp;&nbsp;&nbsp;3.1.1-   [Customers](#customers)  \n",
        "  &nbsp;&nbsp;&nbsp;&nbsp;&nbsp;&nbsp;&nbsp;&nbsp;&nbsp;3.1.2-   [Sellers](#sellers)  \n",
        "4 -  [Next steps](#next)  \n"
      ],
      "metadata": {
        "id": "Ccy1XZiKuByn"
      }
    },
    {
      "cell_type": "markdown",
      "source": [
        "<a name=\"goal\"></a>\n",
        "# **Goal**"
      ],
      "metadata": {
        "id": "HoDvwstQunwY"
      }
    },
    {
      "cell_type": "markdown",
      "source": [
        "The main goal of this project is to use the data from the the brazilian company [Olist](https://olist.com/pt-br/) to identify buying patterns that allow generating knowledge about its operations and add value to the business; through the extraction, analysis, and visualization of data."
      ],
      "metadata": {
        "id": "OpRfLnrhxUeE"
      }
    },
    {
      "cell_type": "markdown",
      "source": [
        "<a name=\"collaboration\"></a>\n",
        "# **Collaboration Plan**"
      ],
      "metadata": {
        "id": "1ed-d3O0y6_f"
      }
    },
    {
      "cell_type": "markdown",
      "source": [
        "This work will be carried out solely by me as a master's student, based on what I learned in the Introduction to Data Science classes and the feedback received by Dr. Nicholas Mattei as professor of the course.\n",
        "\n",
        "This project is developed using python as programming language, Google Colab as development environment and GitHub as code repository and web server."
      ],
      "metadata": {
        "id": "ii5JMYR_zFAH"
      }
    },
    {
      "cell_type": "markdown",
      "source": [
        "<a name=\"datasets\"></a>\n",
        "# **Datasets**"
      ],
      "metadata": {
        "id": "3JRd1gE81G2W"
      }
    },
    {
      "cell_type": "markdown",
      "source": [
        "This dataset is in [Kaggle](https://www.kaggle.com/datasets/olistbr/brazilian-ecommerce)\n",
        "On the web page you can also find the data model, which is important to understand the relationship that exists between the different datasets.\n",
        "\n",
        "![image](https://i.imgur.com/HRhd2Y0.png)\n",
        "\n",
        "There are eight datasets with the following data:\n",
        "\n",
        "\n",
        "1.   olist_order_payments_dataset: It includes the payment option and the number of installments if it is a credit card.\n",
        "2.   olist_orders_dataset: It relates all the information of an order, including delivery date, purchase date, and approved date. \n",
        "3.  olist_order_reviews_dataset: At the end of a purchase, Olist sends a customer survey that allows capturing the customer's satisfaction with their purchase. This information is stored in this dataset\n",
        "4. olist_order_customer_dataset (as olist_customers_dataset): It stores data related to the customers and their locations as state, city and zip code.\n",
        "5. olist_products_dataset: It stores data related to the products sold by Olist.\n",
        "6. olist_order_items_dataset: An order could have more than one product. Then, this dataset stores all the products purchased in a order. \n",
        "7. olist_sellers_dataset: It stores the data related to the sellers and their locations as state, city, and zip code.\n",
        "8. olist_geolocation_dataset: It relates the Brazilian zip codes to latitude and longitude. \n",
        "\n",
        "\n"
      ],
      "metadata": {
        "id": "RKNenCT01dvq"
      }
    },
    {
      "cell_type": "markdown",
      "source": [
        "<a name=\"EDA\"></a>\n",
        "## **Exploratory data analysis**"
      ],
      "metadata": {
        "id": "q4-kzh-cGOdL"
      }
    },
    {
      "cell_type": "markdown",
      "source": [
        "One of the business questions that I would like to delve into is whether the location of customers and vendors affects sales or the products purchased, so I will mainly analyze the related data sets of customers and sellers as well as the datasets that allow them to be related.\n",
        "For this, it is necessary to know how the buyers are distributed, how the sellers are distributed, and how the delivered orders are distributed."
      ],
      "metadata": {
        "id": "PmsIiZldCZnJ"
      }
    },
    {
      "cell_type": "code",
      "execution_count": 16,
      "metadata": {
        "id": "CKFlSDSzr95W"
      },
      "outputs": [],
      "source": [
        "#Reading the main datasets related to the bussiness question. \n",
        "import pandas as pd\n",
        "customers = pd.read_csv(\"data/olist_customers_dataset.csv\")\n",
        "sellers =  pd.read_csv(\"data/olist_sellers_dataset.csv\")"
      ]
    },
    {
      "cell_type": "markdown",
      "source": [
        "<a name=\"customers\"></a>\n",
        "### **Customers**"
      ],
      "metadata": {
        "id": "o1lPX6y-HLPh"
      }
    },
    {
      "cell_type": "code",
      "source": [
        "#The data availabe for the customers\n",
        "customers.head(4)"
      ],
      "metadata": {
        "colab": {
          "base_uri": "https://localhost:8080/",
          "height": 175
        },
        "id": "2LlBKu2BIYWU",
        "outputId": "f166b95b-a930-4b43-93b8-0d6707e4d601"
      },
      "execution_count": 25,
      "outputs": [
        {
          "output_type": "execute_result",
          "data": {
            "text/plain": [
              "                        customer_id                customer_unique_id  \\\n",
              "0  06b8999e2fba1a1fbc88172c00ba8bc7  861eff4711a542e4b93843c6dd7febb0   \n",
              "1  18955e83d337fd6b2def6b18a428ac77  290c77bc529b7ac935b93aa66c333dc3   \n",
              "2  4e7b3e00288586ebd08712fdd0374a03  060e732b5b29e8181a18229c7b0b2b5e   \n",
              "3  b2b6027bc5c5109e529d4dc6358b12c3  259dac757896d24d7702b9acbbff3f3c   \n",
              "\n",
              "   customer_zip_code_prefix          customer_city customer_state  \n",
              "0                     14409                 franca             SP  \n",
              "1                      9790  sao bernardo do campo             SP  \n",
              "2                      1151              sao paulo             SP  \n",
              "3                      8775        mogi das cruzes             SP  "
            ],
            "text/html": [
              "\n",
              "  <div id=\"df-a59edd7d-0da1-4170-b11e-1cf3409d54d5\">\n",
              "    <div class=\"colab-df-container\">\n",
              "      <div>\n",
              "<style scoped>\n",
              "    .dataframe tbody tr th:only-of-type {\n",
              "        vertical-align: middle;\n",
              "    }\n",
              "\n",
              "    .dataframe tbody tr th {\n",
              "        vertical-align: top;\n",
              "    }\n",
              "\n",
              "    .dataframe thead th {\n",
              "        text-align: right;\n",
              "    }\n",
              "</style>\n",
              "<table border=\"1\" class=\"dataframe\">\n",
              "  <thead>\n",
              "    <tr style=\"text-align: right;\">\n",
              "      <th></th>\n",
              "      <th>customer_id</th>\n",
              "      <th>customer_unique_id</th>\n",
              "      <th>customer_zip_code_prefix</th>\n",
              "      <th>customer_city</th>\n",
              "      <th>customer_state</th>\n",
              "    </tr>\n",
              "  </thead>\n",
              "  <tbody>\n",
              "    <tr>\n",
              "      <th>0</th>\n",
              "      <td>06b8999e2fba1a1fbc88172c00ba8bc7</td>\n",
              "      <td>861eff4711a542e4b93843c6dd7febb0</td>\n",
              "      <td>14409</td>\n",
              "      <td>franca</td>\n",
              "      <td>SP</td>\n",
              "    </tr>\n",
              "    <tr>\n",
              "      <th>1</th>\n",
              "      <td>18955e83d337fd6b2def6b18a428ac77</td>\n",
              "      <td>290c77bc529b7ac935b93aa66c333dc3</td>\n",
              "      <td>9790</td>\n",
              "      <td>sao bernardo do campo</td>\n",
              "      <td>SP</td>\n",
              "    </tr>\n",
              "    <tr>\n",
              "      <th>2</th>\n",
              "      <td>4e7b3e00288586ebd08712fdd0374a03</td>\n",
              "      <td>060e732b5b29e8181a18229c7b0b2b5e</td>\n",
              "      <td>1151</td>\n",
              "      <td>sao paulo</td>\n",
              "      <td>SP</td>\n",
              "    </tr>\n",
              "    <tr>\n",
              "      <th>3</th>\n",
              "      <td>b2b6027bc5c5109e529d4dc6358b12c3</td>\n",
              "      <td>259dac757896d24d7702b9acbbff3f3c</td>\n",
              "      <td>8775</td>\n",
              "      <td>mogi das cruzes</td>\n",
              "      <td>SP</td>\n",
              "    </tr>\n",
              "  </tbody>\n",
              "</table>\n",
              "</div>\n",
              "      <button class=\"colab-df-convert\" onclick=\"convertToInteractive('df-a59edd7d-0da1-4170-b11e-1cf3409d54d5')\"\n",
              "              title=\"Convert this dataframe to an interactive table.\"\n",
              "              style=\"display:none;\">\n",
              "        \n",
              "  <svg xmlns=\"http://www.w3.org/2000/svg\" height=\"24px\"viewBox=\"0 0 24 24\"\n",
              "       width=\"24px\">\n",
              "    <path d=\"M0 0h24v24H0V0z\" fill=\"none\"/>\n",
              "    <path d=\"M18.56 5.44l.94 2.06.94-2.06 2.06-.94-2.06-.94-.94-2.06-.94 2.06-2.06.94zm-11 1L8.5 8.5l.94-2.06 2.06-.94-2.06-.94L8.5 2.5l-.94 2.06-2.06.94zm10 10l.94 2.06.94-2.06 2.06-.94-2.06-.94-.94-2.06-.94 2.06-2.06.94z\"/><path d=\"M17.41 7.96l-1.37-1.37c-.4-.4-.92-.59-1.43-.59-.52 0-1.04.2-1.43.59L10.3 9.45l-7.72 7.72c-.78.78-.78 2.05 0 2.83L4 21.41c.39.39.9.59 1.41.59.51 0 1.02-.2 1.41-.59l7.78-7.78 2.81-2.81c.8-.78.8-2.07 0-2.86zM5.41 20L4 18.59l7.72-7.72 1.47 1.35L5.41 20z\"/>\n",
              "  </svg>\n",
              "      </button>\n",
              "      \n",
              "  <style>\n",
              "    .colab-df-container {\n",
              "      display:flex;\n",
              "      flex-wrap:wrap;\n",
              "      gap: 12px;\n",
              "    }\n",
              "\n",
              "    .colab-df-convert {\n",
              "      background-color: #E8F0FE;\n",
              "      border: none;\n",
              "      border-radius: 50%;\n",
              "      cursor: pointer;\n",
              "      display: none;\n",
              "      fill: #1967D2;\n",
              "      height: 32px;\n",
              "      padding: 0 0 0 0;\n",
              "      width: 32px;\n",
              "    }\n",
              "\n",
              "    .colab-df-convert:hover {\n",
              "      background-color: #E2EBFA;\n",
              "      box-shadow: 0px 1px 2px rgba(60, 64, 67, 0.3), 0px 1px 3px 1px rgba(60, 64, 67, 0.15);\n",
              "      fill: #174EA6;\n",
              "    }\n",
              "\n",
              "    [theme=dark] .colab-df-convert {\n",
              "      background-color: #3B4455;\n",
              "      fill: #D2E3FC;\n",
              "    }\n",
              "\n",
              "    [theme=dark] .colab-df-convert:hover {\n",
              "      background-color: #434B5C;\n",
              "      box-shadow: 0px 1px 3px 1px rgba(0, 0, 0, 0.15);\n",
              "      filter: drop-shadow(0px 1px 2px rgba(0, 0, 0, 0.3));\n",
              "      fill: #FFFFFF;\n",
              "    }\n",
              "  </style>\n",
              "\n",
              "      <script>\n",
              "        const buttonEl =\n",
              "          document.querySelector('#df-a59edd7d-0da1-4170-b11e-1cf3409d54d5 button.colab-df-convert');\n",
              "        buttonEl.style.display =\n",
              "          google.colab.kernel.accessAllowed ? 'block' : 'none';\n",
              "\n",
              "        async function convertToInteractive(key) {\n",
              "          const element = document.querySelector('#df-a59edd7d-0da1-4170-b11e-1cf3409d54d5');\n",
              "          const dataTable =\n",
              "            await google.colab.kernel.invokeFunction('convertToInteractive',\n",
              "                                                     [key], {});\n",
              "          if (!dataTable) return;\n",
              "\n",
              "          const docLinkHtml = 'Like what you see? Visit the ' +\n",
              "            '<a target=\"_blank\" href=https://colab.research.google.com/notebooks/data_table.ipynb>data table notebook</a>'\n",
              "            + ' to learn more about interactive tables.';\n",
              "          element.innerHTML = '';\n",
              "          dataTable['output_type'] = 'display_data';\n",
              "          await google.colab.output.renderOutput(dataTable, element);\n",
              "          const docLink = document.createElement('div');\n",
              "          docLink.innerHTML = docLinkHtml;\n",
              "          element.appendChild(docLink);\n",
              "        }\n",
              "      </script>\n",
              "    </div>\n",
              "  </div>\n",
              "  "
            ]
          },
          "metadata": {},
          "execution_count": 25
        }
      ]
    },
    {
      "cell_type": "code",
      "source": [
        "customers.dtypes"
      ],
      "metadata": {
        "colab": {
          "base_uri": "https://localhost:8080/"
        },
        "id": "JW4zjQ9sGB5i",
        "outputId": "c0c7e461-f790-4f59-d51e-a3c4e96cf109"
      },
      "execution_count": 20,
      "outputs": [
        {
          "output_type": "execute_result",
          "data": {
            "text/plain": [
              "customer_id                 object\n",
              "customer_unique_id          object\n",
              "customer_zip_code_prefix     int64\n",
              "customer_city               object\n",
              "customer_state              object\n",
              "dtype: object"
            ]
          },
          "metadata": {},
          "execution_count": 20
        }
      ]
    },
    {
      "cell_type": "markdown",
      "source": [
        "In this case, the customers have 5 variables and all of them are correctly identified. "
      ],
      "metadata": {
        "id": "UDII_CioHuGY"
      }
    },
    {
      "cell_type": "code",
      "source": [
        "#The dataset doesn't have null or nan values\n",
        "customers.isnull().count()\n",
        "customers.isna().count()"
      ],
      "metadata": {
        "colab": {
          "base_uri": "https://localhost:8080/"
        },
        "id": "oa8six0nHtX_",
        "outputId": "41668f3b-62be-4cb2-9516-052dd5795cc5"
      },
      "execution_count": 27,
      "outputs": [
        {
          "output_type": "execute_result",
          "data": {
            "text/plain": [
              "customer_id                 99441\n",
              "customer_unique_id          99441\n",
              "customer_zip_code_prefix    99441\n",
              "customer_city               99441\n",
              "customer_state              99441\n",
              "dtype: int64"
            ]
          },
          "metadata": {},
          "execution_count": 27
        }
      ]
    },
    {
      "cell_type": "markdown",
      "source": [
        "An important feature of this dataset is that two identifiers are found. The `customer_id` represents an identifier of the client within the orders, that is to say, that a client can have several `customer_id` if she has made several orders, while she only has a `customer_unique_id`.\n",
        "So we are interested in knowing the number of customers of the company and if their location remains the same in each order"
      ],
      "metadata": {
        "id": "RLucWnTuJEoA"
      }
    },
    {
      "cell_type": "code",
      "source": [
        "#Total of rows in the customers dataframe\n",
        "display(\"Number of no unique customers\",customers.shape[0])\n",
        "#Total of rows with unique id of the customers dataframe\n",
        "display(\"Number of customers\",len(pd.unique(customers[\"customer_unique_id\"])))"
      ],
      "metadata": {
        "colab": {
          "base_uri": "https://localhost:8080/",
          "height": 88
        },
        "id": "4nXKVvGEHKor",
        "outputId": "3e660b51-0fc5-455f-ec8b-e6117e1d24b9"
      },
      "execution_count": 32,
      "outputs": [
        {
          "output_type": "display_data",
          "data": {
            "text/plain": [
              "'Number of no unique customers'"
            ],
            "application/vnd.google.colaboratory.intrinsic+json": {
              "type": "string"
            }
          },
          "metadata": {}
        },
        {
          "output_type": "display_data",
          "data": {
            "text/plain": [
              "99441"
            ]
          },
          "metadata": {}
        },
        {
          "output_type": "display_data",
          "data": {
            "text/plain": [
              "'Number of customers'"
            ],
            "application/vnd.google.colaboratory.intrinsic+json": {
              "type": "string"
            }
          },
          "metadata": {}
        },
        {
          "output_type": "display_data",
          "data": {
            "text/plain": [
              "96096"
            ]
          },
          "metadata": {}
        }
      ]
    },
    {
      "cell_type": "markdown",
      "source": [
        "This means that about 3000 records refer to customers who have made repurchases"
      ],
      "metadata": {
        "id": "vbxIvOV2LswK"
      }
    },
    {
      "cell_type": "code",
      "source": [
        "#Getting the number number of ids (or orders) created by one user\n",
        "customers_by_orders = customers.groupby(\"customer_unique_id\").count()[\"customer_id\"].reset_index(name='count') \\\n",
        "                             .sort_values(['count'], ascending=False)\n",
        "#Customers who purchased one order\n",
        "customers_one_order=customers_by_orders.loc[customers_by_orders[\"count\"]==1][\"customer_unique_id\"]\n",
        "# Obtaining clients who do not change their location\n",
        "unduplicated_customers = customers[~customers.duplicated(subset=[\"customer_unique_id\",\"customer_city\",\"customer_zip_code_prefix\",\"customer_state\"],keep=False)]\n",
        "# Removing customers of a single purchase to get customers who have different locations\n",
        "customers_different_location = unduplicated_customers.loc[~unduplicated_customers[\"customer_unique_id\"].isin(customers_one_order)]"
      ],
      "metadata": {
        "id": "13vEZzX9MIof"
      },
      "execution_count": 100,
      "outputs": []
    },
    {
      "cell_type": "code",
      "source": [
        "#One example of a customer who has two different locations\n",
        "customers.loc[customers[\"customer_unique_id\"]==\"d55417a83a73d1702b43988e63f0731a\"]"
      ],
      "metadata": {
        "colab": {
          "base_uri": "https://localhost:8080/",
          "height": 112
        },
        "id": "4tm3vd7LSfrL",
        "outputId": "9f10c6e5-6600-46f6-e076-a896ffb91da8"
      },
      "execution_count": 99,
      "outputs": [
        {
          "output_type": "execute_result",
          "data": {
            "text/plain": [
              "                            customer_id                customer_unique_id  \\\n",
              "387    13e8265ea7e8a11df7a56799f5806220  d55417a83a73d1702b43988e63f0731a   \n",
              "56661  ee910160bbbdf7ba4b1dbd4dbc1db3ae  d55417a83a73d1702b43988e63f0731a   \n",
              "\n",
              "       customer_zip_code_prefix    customer_city customer_state  \n",
              "387                        8576  itaquaquecetuba             SP  \n",
              "56661                      3613        sao paulo             SP  "
            ],
            "text/html": [
              "\n",
              "  <div id=\"df-6147165c-add0-44a9-b730-e457e8872050\">\n",
              "    <div class=\"colab-df-container\">\n",
              "      <div>\n",
              "<style scoped>\n",
              "    .dataframe tbody tr th:only-of-type {\n",
              "        vertical-align: middle;\n",
              "    }\n",
              "\n",
              "    .dataframe tbody tr th {\n",
              "        vertical-align: top;\n",
              "    }\n",
              "\n",
              "    .dataframe thead th {\n",
              "        text-align: right;\n",
              "    }\n",
              "</style>\n",
              "<table border=\"1\" class=\"dataframe\">\n",
              "  <thead>\n",
              "    <tr style=\"text-align: right;\">\n",
              "      <th></th>\n",
              "      <th>customer_id</th>\n",
              "      <th>customer_unique_id</th>\n",
              "      <th>customer_zip_code_prefix</th>\n",
              "      <th>customer_city</th>\n",
              "      <th>customer_state</th>\n",
              "    </tr>\n",
              "  </thead>\n",
              "  <tbody>\n",
              "    <tr>\n",
              "      <th>387</th>\n",
              "      <td>13e8265ea7e8a11df7a56799f5806220</td>\n",
              "      <td>d55417a83a73d1702b43988e63f0731a</td>\n",
              "      <td>8576</td>\n",
              "      <td>itaquaquecetuba</td>\n",
              "      <td>SP</td>\n",
              "    </tr>\n",
              "    <tr>\n",
              "      <th>56661</th>\n",
              "      <td>ee910160bbbdf7ba4b1dbd4dbc1db3ae</td>\n",
              "      <td>d55417a83a73d1702b43988e63f0731a</td>\n",
              "      <td>3613</td>\n",
              "      <td>sao paulo</td>\n",
              "      <td>SP</td>\n",
              "    </tr>\n",
              "  </tbody>\n",
              "</table>\n",
              "</div>\n",
              "      <button class=\"colab-df-convert\" onclick=\"convertToInteractive('df-6147165c-add0-44a9-b730-e457e8872050')\"\n",
              "              title=\"Convert this dataframe to an interactive table.\"\n",
              "              style=\"display:none;\">\n",
              "        \n",
              "  <svg xmlns=\"http://www.w3.org/2000/svg\" height=\"24px\"viewBox=\"0 0 24 24\"\n",
              "       width=\"24px\">\n",
              "    <path d=\"M0 0h24v24H0V0z\" fill=\"none\"/>\n",
              "    <path d=\"M18.56 5.44l.94 2.06.94-2.06 2.06-.94-2.06-.94-.94-2.06-.94 2.06-2.06.94zm-11 1L8.5 8.5l.94-2.06 2.06-.94-2.06-.94L8.5 2.5l-.94 2.06-2.06.94zm10 10l.94 2.06.94-2.06 2.06-.94-2.06-.94-.94-2.06-.94 2.06-2.06.94z\"/><path d=\"M17.41 7.96l-1.37-1.37c-.4-.4-.92-.59-1.43-.59-.52 0-1.04.2-1.43.59L10.3 9.45l-7.72 7.72c-.78.78-.78 2.05 0 2.83L4 21.41c.39.39.9.59 1.41.59.51 0 1.02-.2 1.41-.59l7.78-7.78 2.81-2.81c.8-.78.8-2.07 0-2.86zM5.41 20L4 18.59l7.72-7.72 1.47 1.35L5.41 20z\"/>\n",
              "  </svg>\n",
              "      </button>\n",
              "      \n",
              "  <style>\n",
              "    .colab-df-container {\n",
              "      display:flex;\n",
              "      flex-wrap:wrap;\n",
              "      gap: 12px;\n",
              "    }\n",
              "\n",
              "    .colab-df-convert {\n",
              "      background-color: #E8F0FE;\n",
              "      border: none;\n",
              "      border-radius: 50%;\n",
              "      cursor: pointer;\n",
              "      display: none;\n",
              "      fill: #1967D2;\n",
              "      height: 32px;\n",
              "      padding: 0 0 0 0;\n",
              "      width: 32px;\n",
              "    }\n",
              "\n",
              "    .colab-df-convert:hover {\n",
              "      background-color: #E2EBFA;\n",
              "      box-shadow: 0px 1px 2px rgba(60, 64, 67, 0.3), 0px 1px 3px 1px rgba(60, 64, 67, 0.15);\n",
              "      fill: #174EA6;\n",
              "    }\n",
              "\n",
              "    [theme=dark] .colab-df-convert {\n",
              "      background-color: #3B4455;\n",
              "      fill: #D2E3FC;\n",
              "    }\n",
              "\n",
              "    [theme=dark] .colab-df-convert:hover {\n",
              "      background-color: #434B5C;\n",
              "      box-shadow: 0px 1px 3px 1px rgba(0, 0, 0, 0.15);\n",
              "      filter: drop-shadow(0px 1px 2px rgba(0, 0, 0, 0.3));\n",
              "      fill: #FFFFFF;\n",
              "    }\n",
              "  </style>\n",
              "\n",
              "      <script>\n",
              "        const buttonEl =\n",
              "          document.querySelector('#df-6147165c-add0-44a9-b730-e457e8872050 button.colab-df-convert');\n",
              "        buttonEl.style.display =\n",
              "          google.colab.kernel.accessAllowed ? 'block' : 'none';\n",
              "\n",
              "        async function convertToInteractive(key) {\n",
              "          const element = document.querySelector('#df-6147165c-add0-44a9-b730-e457e8872050');\n",
              "          const dataTable =\n",
              "            await google.colab.kernel.invokeFunction('convertToInteractive',\n",
              "                                                     [key], {});\n",
              "          if (!dataTable) return;\n",
              "\n",
              "          const docLinkHtml = 'Like what you see? Visit the ' +\n",
              "            '<a target=\"_blank\" href=https://colab.research.google.com/notebooks/data_table.ipynb>data table notebook</a>'\n",
              "            + ' to learn more about interactive tables.';\n",
              "          element.innerHTML = '';\n",
              "          dataTable['output_type'] = 'display_data';\n",
              "          await google.colab.output.renderOutput(dataTable, element);\n",
              "          const docLink = document.createElement('div');\n",
              "          docLink.innerHTML = docLinkHtml;\n",
              "          element.appendChild(docLink);\n",
              "        }\n",
              "      </script>\n",
              "    </div>\n",
              "  </div>\n",
              "  "
            ]
          },
          "metadata": {},
          "execution_count": 99
        }
      ]
    },
    {
      "cell_type": "markdown",
      "source": [
        "Taking into account the above, it is observed that although a client may have more than one location and there is no way of knowing which is its residence, it is feasible to obtain the distribution of the location of the customers without taking into account whether it is unique or not. In the end, we want to know if there is a pattern from where the delivery of the order was made and the location of the sellers."
      ],
      "metadata": {
        "id": "RnowR2dGV-oi"
      }
    },
    {
      "cell_type": "code",
      "source": [
        "#Visualizing customers by state\n",
        "customers.groupby(\"customer_state\").count()[\"customer_id\"].plot.bar(title=\"States from where a user receives a purchase\",ylabel=\"Number of customers\")"
      ],
      "metadata": {
        "colab": {
          "base_uri": "https://localhost:8080/",
          "height": 319
        },
        "id": "mBEMg_edV-DU",
        "outputId": "78221bd1-beb7-453b-f4dd-fc43569048af"
      },
      "execution_count": 118,
      "outputs": [
        {
          "output_type": "execute_result",
          "data": {
            "text/plain": [
              "<matplotlib.axes._subplots.AxesSubplot at 0x7f85de2ad890>"
            ]
          },
          "metadata": {},
          "execution_count": 118
        },
        {
          "output_type": "display_data",
          "data": {
            "text/plain": [
              "<Figure size 432x288 with 1 Axes>"
            ],
            "image/png": "[encoded data removed]"
          },
          "metadata": {
            "needs_background": "light"
          }
        }
      ]
    },
    {
      "cell_type": "markdown",
      "source": [
        "For this case, it is observed that the SP (São Paulo) state is where more orders are delivered."
      ],
      "metadata": {
        "id": "rLTrXT7MaoVO"
      }
    },
    {
      "cell_type": "code",
      "source": [
        "#Visualizing customers by city\n",
        "\n",
        "customers_city_state= customers.groupby([\"customer_state\",\"customer_city\"]).count()\n",
        "customers_city_state.loc[customers_city_state[\"customer_id\"]>250][\"customer_id\"].plot.bar(title=\"Cities from where a user receives a purchase\",ylabel=\"Number of customers\",figsize=(20, 10))"
      ],
      "metadata": {
        "colab": {
          "base_uri": "https://localhost:8080/",
          "height": 774
        },
        "id": "zhrygscfak7g",
        "outputId": "8636856f-990b-43a3-c042-d987bdc6ab0d"
      },
      "execution_count": 135,
      "outputs": [
        {
          "output_type": "execute_result",
          "data": {
            "text/plain": [
              "<matplotlib.axes._subplots.AxesSubplot at 0x7f8640ddd8d0>"
            ]
          },
          "metadata": {},
          "execution_count": 135
        },
        {
          "output_type": "display_data",
          "data": {
            "text/plain": [
              "<Figure size 1440x720 with 1 Axes>"
            ],
            "image/png": "[encoded data removed]"
          },
          "metadata": {
            "needs_background": "light"
          }
        }
      ]
    },
    {
      "cell_type": "markdown",
      "source": [
        "For display purposes, cities with more than 250 customers who have received an order are selected. Additionally, Sao Paulo was observed as the city where most purchases are received, followed by Rio de Janeiro, which correspond to the most populated cities in Brazil."
      ],
      "metadata": {
        "id": "nXy22sfWcwKI"
      }
    },
    {
      "cell_type": "markdown",
      "source": [
        "<a name=\"sellers\"></a>\n",
        "### **Sellers**"
      ],
      "metadata": {
        "id": "-Tj4q_9zeBGT"
      }
    },
    {
      "cell_type": "code",
      "source": [
        "#Visualizing the sellers dataframe\n",
        "sellers.head(4)"
      ],
      "metadata": {
        "colab": {
          "base_uri": "https://localhost:8080/",
          "height": 175
        },
        "id": "h9a1gR5SfLKD",
        "outputId": "61ccfcd1-b473-40ea-b87d-8f89d4ed83b4"
      },
      "execution_count": 139,
      "outputs": [
        {
          "output_type": "execute_result",
          "data": {
            "text/plain": [
              "                          seller_id  seller_zip_code_prefix     seller_city  \\\n",
              "0  3442f8959a84dea7ee197c632cb2df15                   13023        campinas   \n",
              "1  d1b65fc7debc3361ea86b5f14c68d2e2                   13844      mogi guacu   \n",
              "2  ce3ad9de960102d0677a81f5d0bb7b2d                   20031  rio de janeiro   \n",
              "3  c0f3eea2e14555b6faeea3dd58c1b1c3                    4195       sao paulo   \n",
              "\n",
              "  seller_state  \n",
              "0           SP  \n",
              "1           SP  \n",
              "2           RJ  \n",
              "3           SP  "
            ],
            "text/html": [
              "\n",
              "  <div id=\"df-c971d4a1-e264-4877-b9cb-48a8fdf878c0\">\n",
              "    <div class=\"colab-df-container\">\n",
              "      <div>\n",
              "<style scoped>\n",
              "    .dataframe tbody tr th:only-of-type {\n",
              "        vertical-align: middle;\n",
              "    }\n",
              "\n",
              "    .dataframe tbody tr th {\n",
              "        vertical-align: top;\n",
              "    }\n",
              "\n",
              "    .dataframe thead th {\n",
              "        text-align: right;\n",
              "    }\n",
              "</style>\n",
              "<table border=\"1\" class=\"dataframe\">\n",
              "  <thead>\n",
              "    <tr style=\"text-align: right;\">\n",
              "      <th></th>\n",
              "      <th>seller_id</th>\n",
              "      <th>seller_zip_code_prefix</th>\n",
              "      <th>seller_city</th>\n",
              "      <th>seller_state</th>\n",
              "    </tr>\n",
              "  </thead>\n",
              "  <tbody>\n",
              "    <tr>\n",
              "      <th>0</th>\n",
              "      <td>3442f8959a84dea7ee197c632cb2df15</td>\n",
              "      <td>13023</td>\n",
              "      <td>campinas</td>\n",
              "      <td>SP</td>\n",
              "    </tr>\n",
              "    <tr>\n",
              "      <th>1</th>\n",
              "      <td>d1b65fc7debc3361ea86b5f14c68d2e2</td>\n",
              "      <td>13844</td>\n",
              "      <td>mogi guacu</td>\n",
              "      <td>SP</td>\n",
              "    </tr>\n",
              "    <tr>\n",
              "      <th>2</th>\n",
              "      <td>ce3ad9de960102d0677a81f5d0bb7b2d</td>\n",
              "      <td>20031</td>\n",
              "      <td>rio de janeiro</td>\n",
              "      <td>RJ</td>\n",
              "    </tr>\n",
              "    <tr>\n",
              "      <th>3</th>\n",
              "      <td>c0f3eea2e14555b6faeea3dd58c1b1c3</td>\n",
              "      <td>4195</td>\n",
              "      <td>sao paulo</td>\n",
              "      <td>SP</td>\n",
              "    </tr>\n",
              "  </tbody>\n",
              "</table>\n",
              "</div>\n",
              "      <button class=\"colab-df-convert\" onclick=\"convertToInteractive('df-c971d4a1-e264-4877-b9cb-48a8fdf878c0')\"\n",
              "              title=\"Convert this dataframe to an interactive table.\"\n",
              "              style=\"display:none;\">\n",
              "        \n",
              "  <svg xmlns=\"http://www.w3.org/2000/svg\" height=\"24px\"viewBox=\"0 0 24 24\"\n",
              "       width=\"24px\">\n",
              "    <path d=\"M0 0h24v24H0V0z\" fill=\"none\"/>\n",
              "    <path d=\"M18.56 5.44l.94 2.06.94-2.06 2.06-.94-2.06-.94-.94-2.06-.94 2.06-2.06.94zm-11 1L8.5 8.5l.94-2.06 2.06-.94-2.06-.94L8.5 2.5l-.94 2.06-2.06.94zm10 10l.94 2.06.94-2.06 2.06-.94-2.06-.94-.94-2.06-.94 2.06-2.06.94z\"/><path d=\"M17.41 7.96l-1.37-1.37c-.4-.4-.92-.59-1.43-.59-.52 0-1.04.2-1.43.59L10.3 9.45l-7.72 7.72c-.78.78-.78 2.05 0 2.83L4 21.41c.39.39.9.59 1.41.59.51 0 1.02-.2 1.41-.59l7.78-7.78 2.81-2.81c.8-.78.8-2.07 0-2.86zM5.41 20L4 18.59l7.72-7.72 1.47 1.35L5.41 20z\"/>\n",
              "  </svg>\n",
              "      </button>\n",
              "      \n",
              "  <style>\n",
              "    .colab-df-container {\n",
              "      display:flex;\n",
              "      flex-wrap:wrap;\n",
              "      gap: 12px;\n",
              "    }\n",
              "\n",
              "    .colab-df-convert {\n",
              "      background-color: #E8F0FE;\n",
              "      border: none;\n",
              "      border-radius: 50%;\n",
              "      cursor: pointer;\n",
              "      display: none;\n",
              "      fill: #1967D2;\n",
              "      height: 32px;\n",
              "      padding: 0 0 0 0;\n",
              "      width: 32px;\n",
              "    }\n",
              "\n",
              "    .colab-df-convert:hover {\n",
              "      background-color: #E2EBFA;\n",
              "      box-shadow: 0px 1px 2px rgba(60, 64, 67, 0.3), 0px 1px 3px 1px rgba(60, 64, 67, 0.15);\n",
              "      fill: #174EA6;\n",
              "    }\n",
              "\n",
              "    [theme=dark] .colab-df-convert {\n",
              "      background-color: #3B4455;\n",
              "      fill: #D2E3FC;\n",
              "    }\n",
              "\n",
              "    [theme=dark] .colab-df-convert:hover {\n",
              "      background-color: #434B5C;\n",
              "      box-shadow: 0px 1px 3px 1px rgba(0, 0, 0, 0.15);\n",
              "      filter: drop-shadow(0px 1px 2px rgba(0, 0, 0, 0.3));\n",
              "      fill: #FFFFFF;\n",
              "    }\n",
              "  </style>\n",
              "\n",
              "      <script>\n",
              "        const buttonEl =\n",
              "          document.querySelector('#df-c971d4a1-e264-4877-b9cb-48a8fdf878c0 button.colab-df-convert');\n",
              "        buttonEl.style.display =\n",
              "          google.colab.kernel.accessAllowed ? 'block' : 'none';\n",
              "\n",
              "        async function convertToInteractive(key) {\n",
              "          const element = document.querySelector('#df-c971d4a1-e264-4877-b9cb-48a8fdf878c0');\n",
              "          const dataTable =\n",
              "            await google.colab.kernel.invokeFunction('convertToInteractive',\n",
              "                                                     [key], {});\n",
              "          if (!dataTable) return;\n",
              "\n",
              "          const docLinkHtml = 'Like what you see? Visit the ' +\n",
              "            '<a target=\"_blank\" href=https://colab.research.google.com/notebooks/data_table.ipynb>data table notebook</a>'\n",
              "            + ' to learn more about interactive tables.';\n",
              "          element.innerHTML = '';\n",
              "          dataTable['output_type'] = 'display_data';\n",
              "          await google.colab.output.renderOutput(dataTable, element);\n",
              "          const docLink = document.createElement('div');\n",
              "          docLink.innerHTML = docLinkHtml;\n",
              "          element.appendChild(docLink);\n",
              "        }\n",
              "      </script>\n",
              "    </div>\n",
              "  </div>\n",
              "  "
            ]
          },
          "metadata": {},
          "execution_count": 139
        }
      ]
    },
    {
      "cell_type": "code",
      "source": [
        "#The variables are correctly defined\n",
        "sellers.dtypes"
      ],
      "metadata": {
        "colab": {
          "base_uri": "https://localhost:8080/"
        },
        "id": "V5sYZbRTcvZJ",
        "outputId": "8a472bc7-b568-4d27-d366-0954c0ed4878"
      },
      "execution_count": 137,
      "outputs": [
        {
          "output_type": "execute_result",
          "data": {
            "text/plain": [
              "seller_id                 object\n",
              "seller_zip_code_prefix     int64\n",
              "seller_city               object\n",
              "seller_state              object\n",
              "dtype: object"
            ]
          },
          "metadata": {},
          "execution_count": 137
        }
      ]
    },
    {
      "cell_type": "code",
      "source": [
        "#There are no seller duplicates \n",
        "sellers.seller_id.is_unique"
      ],
      "metadata": {
        "colab": {
          "base_uri": "https://localhost:8080/"
        },
        "id": "Sr3YkNVqflpt",
        "outputId": "6d6d1318-8462-4f3d-bade-257b0f782989"
      },
      "execution_count": 145,
      "outputs": [
        {
          "output_type": "execute_result",
          "data": {
            "text/plain": [
              "True"
            ]
          },
          "metadata": {},
          "execution_count": 145
        }
      ]
    },
    {
      "cell_type": "markdown",
      "source": [
        "Unlike buyers, sellers have a single location so it is possible to see their distribution directly\n"
      ],
      "metadata": {
        "id": "y0hUb52sfAqv"
      }
    },
    {
      "cell_type": "code",
      "source": [
        "#Visualizing sellers by state\n",
        "sellers.groupby(\"seller_state\").count()[\"seller_id\"].plot.bar(title=\"States from where a seller sends an order\",ylabel=\"Number of sellers\")"
      ],
      "metadata": {
        "colab": {
          "base_uri": "https://localhost:8080/",
          "height": 320
        },
        "id": "F2w8OMxVe2aB",
        "outputId": "8e4d05c6-0802-4af7-e23a-9a8c6b70d427"
      },
      "execution_count": 142,
      "outputs": [
        {
          "output_type": "execute_result",
          "data": {
            "text/plain": [
              "<matplotlib.axes._subplots.AxesSubplot at 0x7f863eb2be50>"
            ]
          },
          "metadata": {},
          "execution_count": 142
        },
        {
          "output_type": "display_data",
          "data": {
            "text/plain": [
              "<Figure size 432x288 with 1 Axes>"
            ],
            "image/png": "[encoded data removed]"
          },
          "metadata": {
            "needs_background": "light"
          }
        }
      ]
    },
    {
      "cell_type": "code",
      "source": [
        "#Visualizing sellers by city\n",
        "sellers_city_state= sellers.groupby([\"seller_state\",\"seller_city\"]).count()\n",
        "sellers_city_state.loc[sellers_city_state[\"seller_id\"]>10][\"seller_id\"].plot.bar(title=\"Cities from where a seller sends an order\",ylabel=\"Number of sellers\",figsize=(20, 10))\n"
      ],
      "metadata": {
        "colab": {
          "base_uri": "https://localhost:8080/",
          "height": 774
        },
        "id": "ukmwhkQNf5fu",
        "outputId": "69764ff5-aaeb-469b-e410-fa40114dfe09"
      },
      "execution_count": 151,
      "outputs": [
        {
          "output_type": "execute_result",
          "data": {
            "text/plain": [
              "<matplotlib.axes._subplots.AxesSubplot at 0x7f86298e7fd0>"
            ]
          },
          "metadata": {},
          "execution_count": 151
        },
        {
          "output_type": "display_data",
          "data": {
            "text/plain": [
              "<Figure size 1440x720 with 1 Axes>"
            ],
            "image/png": "[encoded data removed]"
          },
          "metadata": {
            "needs_background": "light"
          }
        }
      ]
    },
    {
      "cell_type": "markdown",
      "source": [
        "It is interesting because we also have the state of SP and the city of Sao Paulo with more sellers as well as buyers, however the second city with more sellers is Curitiba, which is also where the location of Olist."
      ],
      "metadata": {
        "id": "KYi4536ofAgp"
      }
    },
    {
      "cell_type": "markdown",
      "source": [
        "<a name=\"next\"></a>\n",
        "# **Next steps**"
      ],
      "metadata": {
        "id": "QnC-fzV2iN9Z"
      }
    },
    {
      "cell_type": "markdown",
      "source": [
        "There is still a lot of data to view. Is it possible that the value of the orders follows this same distribution? What is the satisfaction of users with their purchases?\n"
      ],
      "metadata": {
        "id": "dZRa5_ofjceA"
      }
    }
  ]
}