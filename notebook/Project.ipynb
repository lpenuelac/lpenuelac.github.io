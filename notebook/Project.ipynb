{
  "nbformat": 4,
  "nbformat_minor": 0,
  "metadata": {
    "colab": {
      "provenance": []
    },
    "kernelspec": {
      "name": "python3",
      "display_name": "Python 3"
    },
    "language_info": {
      "name": "python"
    }
  },
  "cells": [
    {
      "cell_type": "markdown",
      "source": [
        "<img src=\"https://communications.tulane.edu/sites/default/files/TUlogo2020.png\" alt=\"drawing\" width=\"20%\"/> \n",
        "# <center> **E-commerce business data analysis** </center>\n",
        " ### <center> by Lorena Peñuela Cantor </center>\n",
        "#### <center> [Website](https://lpenuelac.github.io/) </center>\n",
        "\n",
        "\n"
      ],
      "metadata": {
        "id": "Ao_EX5EWsPYC"
      }
    },
    {
      "cell_type": "markdown",
      "source": [
        "<a name=\"content\"></a>\n",
        "# **Content**\n",
        "1- [Goal](#goal)  \n",
        "2-  [Collaboration Plan](#collaboration)  \n",
        "&nbsp;&nbsp;&nbsp;&nbsp;&nbsp;2.1-   [Histograma de gradientes orientados](#Histograma)  \n",
        "3 -  [Datasets](#datasets)  \n"
      ],
      "metadata": {
        "id": "Ccy1XZiKuByn"
      }
    },
    {
      "cell_type": "markdown",
      "source": [
        "<a name=\"goal\"></a>\n",
        "# **Goal**"
      ],
      "metadata": {
        "id": "HoDvwstQunwY"
      }
    },
    {
      "cell_type": "markdown",
      "source": [
        "The main goal of this project is to use the data from the the brazilian company [Olist](https://olist.com/pt-br/) to identify buying patterns that allow generating knowledge about its operations and add value to the business; through the extraction, analysis, and visualization of data."
      ],
      "metadata": {
        "id": "OpRfLnrhxUeE"
      }
    },
    {
      "cell_type": "markdown",
      "source": [
        "<a name=\"collaboration\"></a>\n",
        "# **Collaboration Plan**"
      ],
      "metadata": {
        "id": "1ed-d3O0y6_f"
      }
    },
    {
      "cell_type": "markdown",
      "source": [
        "This work will be carried out solely by me as a master's student, based on what I learned in the Introduction to Data Science classes and the feedback received by Dr. Nicholas Mattei as professor of the course.\n",
        "\n",
        "This project is developed using python as programming language, Google Colab as development environment and GitHub as code repository and web server."
      ],
      "metadata": {
        "id": "ii5JMYR_zFAH"
      }
    },
    {
      "cell_type": "markdown",
      "source": [
        "<a name=\"datasets\"></a>\n",
        "# **Datasets**"
      ],
      "metadata": {
        "id": "3JRd1gE81G2W"
      }
    },
    {
      "cell_type": "markdown",
      "source": [
        "This dataset is in [Kaggle](https://www.kaggle.com/datasets/olistbr/brazilian-ecommerce)\n",
        "On the web page you can also find the data model, which is important to understand the relationship that exists between the different datasets.\n",
        "\n",
        "![image](https://i.imgur.com/HRhd2Y0.png)\n",
        "\n",
        "There are eight datasets with the following data:\n",
        "\n",
        "\n",
        "1.   olist_order_payments_dataset: It includes the payment option and the number of installments if it is a credit card.\n",
        "2.   olist_orders_dataset: It relates all the information of an order, including delivery date, purchase date, and approved date. \n",
        "3.  olist_order_reviews_dataset: At the end of a purchase, Olist sends a customer survey that allows capturing the customer's satisfaction with their purchase. This information is stored in this dataset\n",
        "4. olist_order_customer_dataset: It stores data related to the customers and their locations as state, city and zip code.\n",
        "5. olist_products_dataset: It stores data related to the products sold by Olist.\n",
        "6. olist_order_items_dataset: An order could have more than one product. Then, this dataset stores all the products purchased in a order. \n",
        "7. olist_sellers_dataset: It sotres the data related to the sellers and their locations as state, city and zip code.\n",
        "8. olist_geolocation_dataset: It relates the Brazilian zip codes to latitude and longitude. \n",
        "\n",
        "\n"
      ],
      "metadata": {
        "id": "RKNenCT01dvq"
      }
    },
    {
      "cell_type": "code",
      "execution_count": null,
      "metadata": {
        "id": "CKFlSDSzr95W"
      },
      "outputs": [],
      "source": []
    }
  ]
}